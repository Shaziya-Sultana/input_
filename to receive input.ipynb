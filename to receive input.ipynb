{
 "cells": [
  {
   "cell_type": "code",
   "execution_count": 1,
   "id": "cd647f96",
   "metadata": {},
   "outputs": [
    {
     "name": "stdout",
     "output_type": "stream",
     "text": [
      "what is your name? shaz\n",
      " which is your fav. colour? blue\n",
      "shaz likes blue\n"
     ]
    }
   ],
   "source": [
    "name = input('what is your name? ')\n",
    "fav_colour = input(' which is your fav. colour? ')\n",
    "print(name + ' likes '+ fav_colour)\n"
   ]
  },
  {
   "cell_type": "code",
   "execution_count": null,
   "id": "53a66735",
   "metadata": {},
   "outputs": [],
   "source": []
  }
 ],
 "metadata": {
  "kernelspec": {
   "display_name": "Python 3 (ipykernel)",
   "language": "python",
   "name": "python3"
  },
  "language_info": {
   "codemirror_mode": {
    "name": "ipython",
    "version": 3
   },
   "file_extension": ".py",
   "mimetype": "text/x-python",
   "name": "python",
   "nbconvert_exporter": "python",
   "pygments_lexer": "ipython3",
   "version": "3.9.10"
  }
 },
 "nbformat": 4,
 "nbformat_minor": 5
}
